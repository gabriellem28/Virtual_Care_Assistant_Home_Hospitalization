{
  "nbformat": 4,
  "nbformat_minor": 0,
  "metadata": {
    "colab": {
      "provenance": []
    },
    "kernelspec": {
      "name": "python3",
      "display_name": "Python 3"
    },
    "language_info": {
      "name": "python"
    }
  },
  "cells": [
    {
      "cell_type": "code",
      "execution_count": null,
      "metadata": {
        "colab": {
          "base_uri": "https://localhost:8080/"
        },
        "id": "LfTRuQTn9RpL",
        "outputId": "a355d1d4-732e-4ee3-c3b4-600c85284083"
      },
      "outputs": [
        {
          "output_type": "stream",
          "name": "stdout",
          "text": [
            "Requirement already satisfied: openai in /usr/local/lib/python3.11/dist-packages (1.82.0)\n",
            "Requirement already satisfied: anyio<5,>=3.5.0 in /usr/local/lib/python3.11/dist-packages (from openai) (4.9.0)\n",
            "Requirement already satisfied: distro<2,>=1.7.0 in /usr/local/lib/python3.11/dist-packages (from openai) (1.9.0)\n",
            "Requirement already satisfied: httpx<1,>=0.23.0 in /usr/local/lib/python3.11/dist-packages (from openai) (0.28.1)\n",
            "Requirement already satisfied: jiter<1,>=0.4.0 in /usr/local/lib/python3.11/dist-packages (from openai) (0.9.0)\n",
            "Requirement already satisfied: pydantic<3,>=1.9.0 in /usr/local/lib/python3.11/dist-packages (from openai) (2.11.4)\n",
            "Requirement already satisfied: sniffio in /usr/local/lib/python3.11/dist-packages (from openai) (1.3.1)\n",
            "Requirement already satisfied: tqdm>4 in /usr/local/lib/python3.11/dist-packages (from openai) (4.67.1)\n",
            "Requirement already satisfied: typing-extensions<5,>=4.11 in /usr/local/lib/python3.11/dist-packages (from openai) (4.13.2)\n",
            "Requirement already satisfied: idna>=2.8 in /usr/local/lib/python3.11/dist-packages (from anyio<5,>=3.5.0->openai) (3.10)\n",
            "Requirement already satisfied: certifi in /usr/local/lib/python3.11/dist-packages (from httpx<1,>=0.23.0->openai) (2025.4.26)\n",
            "Requirement already satisfied: httpcore==1.* in /usr/local/lib/python3.11/dist-packages (from httpx<1,>=0.23.0->openai) (1.0.9)\n",
            "Requirement already satisfied: h11>=0.16 in /usr/local/lib/python3.11/dist-packages (from httpcore==1.*->httpx<1,>=0.23.0->openai) (0.16.0)\n",
            "Requirement already satisfied: annotated-types>=0.6.0 in /usr/local/lib/python3.11/dist-packages (from pydantic<3,>=1.9.0->openai) (0.7.0)\n",
            "Requirement already satisfied: pydantic-core==2.33.2 in /usr/local/lib/python3.11/dist-packages (from pydantic<3,>=1.9.0->openai) (2.33.2)\n",
            "Requirement already satisfied: typing-inspection>=0.4.0 in /usr/local/lib/python3.11/dist-packages (from pydantic<3,>=1.9.0->openai) (0.4.0)\n"
          ]
        }
      ],
      "source": [
        "!pip install --upgrade openai\n"
      ]
    },
    {
      "cell_type": "code",
      "source": [
        "import os\n",
        "import json\n",
        "import time\n",
        "import random\n",
        "import re\n",
        "from openai import OpenAI\n",
        "\n",
        "# Set your OpenAI API key securely\n",
        "os.environ[\"OPENAI_API_KEY\"] = \"INSERT-API-KEY-HERE\"\n",
        "client = OpenAI(api_key=os.getenv(\"OPENAI_API_KEY\"))\n"
      ],
      "metadata": {
        "id": "n-WhYtKYqFgP"
      },
      "execution_count": null,
      "outputs": []
    },
    {
      "cell_type": "code",
      "source": [
        "diagnoses = [\n",
        "    \"Hypertension\", \"COPD\", \"CHF\", \"Pneumonia\", \"Cellulitis\", \"UTI\",\n",
        "    \"DEHYDRATION\", \"FEVER\", \"Bronchiectasis\", \"DIARRHEA\", \"influenza\",\n",
        "    \"gastroenteritis\", \"Skin infections\", \"heart failure\", \"hyperemesis\"\n",
        "]\n",
        "genders = [\"Male\", \"Female\"]\n",
        "condition_changes = [\"no change\", \"improvement\", \"deterioration\"]\n",
        "\n",
        "def generate_prompt(patient_id, age, gender, diagnosis, change, description_length, tone):\n",
        "    return f\"\"\"\n",
        "You are simulating progress notes from a patient at home. Write a JSON object describing their experience over two days.\n",
        "\n",
        "Fields to include:\n",
        "- \"patient_id\": \"{patient_id}\"\n",
        "- \"age\": {age}\n",
        "- \"gender\": \"{gender}\"\n",
        "- \"diagnosis\": \"{diagnosis}\"\n",
        "- \"change\": \"{change}\"\n",
        "- \"narratives\": {{\n",
        "    \"Day 1\": a short first-person message written by the patient (about {description_length}). It should describe how they feel in simple, everyday language, matching their diagnosis. Use natural, human phrasing like someone texting or journaling. At the end of the message, include their vitals: HR, BP, Temp (°C), RR.\n",
        "    \"Day 2\": a similar first-person message, with different symptoms or experiences. Include new vitals at the end.\n",
        "}}\n",
        "- \"reasoning\": A brief, objective explanation of how the patient's change is inferred from their complaints and vital signs. Avoid emotional or vague wording like \"better\" or \"worse\".\n",
        "\n",
        "⚠️ Return valid JSON only. No markdown, no extra commentary. Only the JSON object.\n",
        "\"\"\"\n"
      ],
      "metadata": {
        "id": "4iarbbrbqPgX"
      },
      "execution_count": null,
      "outputs": []
    },
    {
      "cell_type": "code",
      "source": [
        "def extract_json(text):\n",
        "    match = re.search(r\"\\{.*\\}\", text, re.DOTALL)\n",
        "    if match:\n",
        "        try:\n",
        "            return json.loads(match.group())\n",
        "        except json.JSONDecodeError:\n",
        "            return None\n",
        "    return None\n"
      ],
      "metadata": {
        "id": "c7gATIX6qPjP"
      },
      "execution_count": null,
      "outputs": []
    },
    {
      "cell_type": "code",
      "source": [
        "def call_openai_api(prompt, retries=3):\n",
        "    for attempt in range(retries):\n",
        "        try:\n",
        "            response = client.chat.completions.create(\n",
        "                model=\"gpt-4o\",\n",
        "                messages=[{\"role\": \"user\", \"content\": prompt}],\n",
        "                temperature=0.9\n",
        "            )\n",
        "            content = response.choices[0].message.content\n",
        "            return extract_json(content)\n",
        "        except Exception as e:\n",
        "            print(f\"Error on attempt {attempt + 1}: {e}\")\n",
        "            time.sleep(2)\n",
        "    return None\n"
      ],
      "metadata": {
        "id": "XAyIS5CbqWd6"
      },
      "execution_count": null,
      "outputs": []
    },
    {
      "cell_type": "code",
      "source": [
        "data = []\n",
        "\n",
        "for i in range(650):\n",
        "    patient_id = f\"PID{i+1:04d}\"\n",
        "    age = random.randint(25, 110)\n",
        "    gender = random.choice(genders)\n",
        "    diagnosis = random.choice(diagnoses)\n",
        "    change = random.choice(condition_changes)\n",
        "    description_length = random.choice([\"1–2 sentence\", \"3–4 sentence\"])\n",
        "    tone = random.choice([\"formal\", \"conversational\"])\n",
        "\n",
        "    prompt = generate_prompt(patient_id, age, gender, diagnosis, change, description_length, tone)\n",
        "    result = call_openai_api(prompt)\n",
        "\n",
        "    if result:\n",
        "        data.append(result)\n",
        "    else:\n",
        "        print(f\" Invalid JSON format at record {i}\")\n"
      ],
      "metadata": {
        "id": "_vqRcxvWqWkI"
      },
      "execution_count": null,
      "outputs": []
    },
    {
      "cell_type": "code",
      "source": [
        "def generate_noisy_prompt(patient_id, age, gender, diagnosis, change, description_length, tone):\n",
        "    return f\"\"\"\n",
        "You are simulating a noisy, real-world patient journal entry for a clinical dataset used in text classification.\n",
        "\n",
        "Generate a JSON object with:\n",
        "- \"patient_id\": \"{patient_id}\"\n",
        "- \"age\": {age}\n",
        "- \"gender\": \"{gender}\"\n",
        "- \"diagnosis\": \"{diagnosis}\"\n",
        "- \"change\": \"{change}\"\n",
        "- \"narratives\": {{\n",
        "    \"Day 1\": A short, first-person message written by the patient (about {description_length}, in a {tone} tone). Introduce natural noise: misspellings, ASR-like errors, misplaced grammar, confusion, or irrelevant phrases. Still include vitals at the end (HR, BP, Temp °C, RR).\n",
        "    \"Day 2\": Another noisy, first-person message with different symptoms or behavior. Include new vitals at the end.\n",
        "}}\n",
        "- \"reasoning\": Explain how the change can be inferred from the combination of the noisy complaints and vitals. Keep it objective.\n",
        "\n",
        "⚠️ Output a valid JSON object only. Do not include markdown, extra commentary, or formatting.\n",
        "\"\"\"\n"
      ],
      "metadata": {
        "id": "5miI8ePtKSfE"
      },
      "execution_count": null,
      "outputs": []
    },
    {
      "cell_type": "code",
      "source": [
        "# 2. Generate 50 noisy records\n",
        "for i in range(50):\n",
        "    patient_id = f\"PIG{i+1:04d}\"\n",
        "    age = random.randint(25, 105)\n",
        "    gender = random.choice(genders)\n",
        "    diagnosis = random.choice(diagnoses)\n",
        "    change = random.choice(condition_changes)\n",
        "\n",
        "    prompt = generate_noisy_prompt(patient_id, age, gender, diagnosis, change, description_length, tone)\n",
        "\n",
        "    result = call_openai_api(prompt)\n",
        "\n",
        "    if result:\n",
        "        data.append(result)\n",
        "    else:\n",
        "        print(f\"Invalid JSON format at noisy record {i}\")\n"
      ],
      "metadata": {
        "colab": {
          "base_uri": "https://localhost:8080/"
        },
        "id": "LzaIFfMeKSoK",
        "outputId": "4b88c06f-d25c-43a8-fb2e-1c0bef962da3"
      },
      "execution_count": null,
      "outputs": [
        {
          "output_type": "stream",
          "name": "stdout",
          "text": [
            "Invalid JSON format at noisy record 40\n"
          ]
        }
      ]
    },
    {
      "cell_type": "code",
      "source": [
        "random.shuffle(data)\n"
      ],
      "metadata": {
        "id": "cnu_h6TpKSsl"
      },
      "execution_count": null,
      "outputs": []
    },
    {
      "cell_type": "code",
      "source": [
        "with open(\"patient_dataset.json\", \"w\") as f:\n",
        "    json.dump(data, f, indent=2)\n",
        "\n",
        "# Optional: export to CSV for manual review or labeling\n",
        "flat_data = []\n",
        "for record in data:\n",
        "    try:\n",
        "        flat_data.append({\n",
        "            \"patient_id\": record[\"patient_id\"],\n",
        "            \"age\": record[\"age\"],\n",
        "            \"gender\": record[\"gender\"],\n",
        "            \"diagnosis\": record[\"diagnosis\"],\n",
        "            \"change\": record[\"change\"],\n",
        "            \"day1_note\": record[\"narratives\"][\"Day 1\"],\n",
        "            \"day2_note\": record[\"narratives\"][\"Day 2\"],\n",
        "            \"reasoning\": record[\"reasoning\"],\n",
        "\n",
        "        })\n",
        "    except KeyError:\n",
        "        continue\n",
        "\n",
        "df = pd.DataFrame(flat_data)\n",
        "df.to_csv(\"patient_dataset.csv\", index=False)\n"
      ],
      "metadata": {
        "id": "fhm4LIgBMfqX"
      },
      "execution_count": null,
      "outputs": []
    },
    {
      "cell_type": "code",
      "source": [],
      "metadata": {
        "id": "ohYsPTTgMfvc"
      },
      "execution_count": null,
      "outputs": []
    },
    {
      "cell_type": "code",
      "source": [
        "import pandas as pd\n",
        "\n",
        "# Convert JSON records to flat rows for CSV\n",
        "flat_data = []\n",
        "for record in data:\n",
        "    try:\n",
        "        flat_data.append({\n",
        "            \"patient_id\": record[\"patient_id\"],\n",
        "            \"age\": record[\"age\"],\n",
        "            \"gender\": record[\"gender\"],\n",
        "            \"diagnosis\": record[\"diagnosis\"],\n",
        "            \"change\": record[\"change\"],\n",
        "            \"day1_note\": record[\"narratives\"][\"Day 1\"],\n",
        "            \"day2_note\": record[\"narratives\"][\"Day 2\"],\n",
        "            \"reasoning\": record[\"reasoning\"]\n",
        "        })\n",
        "    except KeyError:\n",
        "        continue  # Skip malformed records\n",
        "\n",
        "# Convert to DataFrame\n",
        "df = pd.DataFrame(flat_data)\n",
        "\n",
        "# Save as CSV\n",
        "df.to_csv(\"Condition_description.csv\", index=False)\n",
        "\n",
        "# Download in Colab\n",
        "from google.colab import files\n",
        "files.download(\"Condition_description.csv\")\n"
      ],
      "metadata": {
        "colab": {
          "base_uri": "https://localhost:8080/",
          "height": 17
        },
        "id": "Sjn8CesXqciy",
        "outputId": "0371f4f3-3e80-4fdb-f96f-019e2610d867"
      },
      "execution_count": null,
      "outputs": [
        {
          "output_type": "display_data",
          "data": {
            "text/plain": [
              "<IPython.core.display.Javascript object>"
            ],
            "application/javascript": [
              "\n",
              "    async function download(id, filename, size) {\n",
              "      if (!google.colab.kernel.accessAllowed) {\n",
              "        return;\n",
              "      }\n",
              "      const div = document.createElement('div');\n",
              "      const label = document.createElement('label');\n",
              "      label.textContent = `Downloading \"${filename}\": `;\n",
              "      div.appendChild(label);\n",
              "      const progress = document.createElement('progress');\n",
              "      progress.max = size;\n",
              "      div.appendChild(progress);\n",
              "      document.body.appendChild(div);\n",
              "\n",
              "      const buffers = [];\n",
              "      let downloaded = 0;\n",
              "\n",
              "      const channel = await google.colab.kernel.comms.open(id);\n",
              "      // Send a message to notify the kernel that we're ready.\n",
              "      channel.send({})\n",
              "\n",
              "      for await (const message of channel.messages) {\n",
              "        // Send a message to notify the kernel that we're ready.\n",
              "        channel.send({})\n",
              "        if (message.buffers) {\n",
              "          for (const buffer of message.buffers) {\n",
              "            buffers.push(buffer);\n",
              "            downloaded += buffer.byteLength;\n",
              "            progress.value = downloaded;\n",
              "          }\n",
              "        }\n",
              "      }\n",
              "      const blob = new Blob(buffers, {type: 'application/binary'});\n",
              "      const a = document.createElement('a');\n",
              "      a.href = window.URL.createObjectURL(blob);\n",
              "      a.download = filename;\n",
              "      div.appendChild(a);\n",
              "      a.click();\n",
              "      div.remove();\n",
              "    }\n",
              "  "
            ]
          },
          "metadata": {}
        },
        {
          "output_type": "display_data",
          "data": {
            "text/plain": [
              "<IPython.core.display.Javascript object>"
            ],
            "application/javascript": [
              "download(\"download_bb28515a-9098-4ebf-8091-dc9bd0ef418c\", \"Condition_description.csv\", 410062)"
            ]
          },
          "metadata": {}
        }
      ]
    }
  ]
}